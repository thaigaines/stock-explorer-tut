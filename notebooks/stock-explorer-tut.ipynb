{
 "cells": [
  {
   "cell_type": "markdown",
   "id": "a07ee80c-170d-47e3-aacf-b7cad91bd7f8",
   "metadata": {},
   "source": [
    "## Stock Explorer Tutorial"
   ]
  },
  {
   "cell_type": "code",
   "execution_count": 1,
   "id": "83dfce10-6514-4781-a4fa-662a1fe6f2f2",
   "metadata": {},
   "outputs": [],
   "source": [
    "import matplotlib.pyplot as plt\n",
    "import pandas as pd\n",
    "import yfinance as yf"
   ]
  },
  {
   "cell_type": "markdown",
   "id": "eb5121b6-606a-4706-bdb4-c7f691d6a6aa",
   "metadata": {},
   "source": [
    "Thank you yfinance for making api's even easier than they already are.\n",
    "\n",
    "\n",
    "Now that we have our imports, let's get started by creating a ticker class object using everyone's favorite chip manufacturer: Nvidia"
   ]
  },
  {
   "cell_type": "code",
   "execution_count": 2,
   "id": "873d51e1-d37f-453b-b3b5-9539b441f547",
   "metadata": {},
   "outputs": [],
   "source": [
    "# ticker = yf.Ticker('ticker symbol')\n",
    "nvda = yf.Ticker(\"NVDA\")"
   ]
  },
  {
   "cell_type": "markdown",
   "id": "e0d8501e-be91-4c85-9236-faba5dd5120c",
   "metadata": {},
   "source": [
    "I wonder how Jensen Huang is doing this week."
   ]
  },
  {
   "cell_type": "code",
   "execution_count": 3,
   "id": "cb96a9bd-f12f-4c11-80c6-d4ad408a5f61",
   "metadata": {},
   "outputs": [
    {
     "data": {
      "text/html": [
       "<div>\n",
       "<style scoped>\n",
       "    .dataframe tbody tr th:only-of-type {\n",
       "        vertical-align: middle;\n",
       "    }\n",
       "\n",
       "    .dataframe tbody tr th {\n",
       "        vertical-align: top;\n",
       "    }\n",
       "\n",
       "    .dataframe thead th {\n",
       "        text-align: right;\n",
       "    }\n",
       "</style>\n",
       "<table border=\"1\" class=\"dataframe\">\n",
       "  <thead>\n",
       "    <tr style=\"text-align: right;\">\n",
       "      <th></th>\n",
       "      <th>Open</th>\n",
       "      <th>High</th>\n",
       "      <th>Low</th>\n",
       "      <th>Close</th>\n",
       "      <th>Volume</th>\n",
       "      <th>Dividends</th>\n",
       "      <th>Stock Splits</th>\n",
       "    </tr>\n",
       "    <tr>\n",
       "      <th>Date</th>\n",
       "      <th></th>\n",
       "      <th></th>\n",
       "      <th></th>\n",
       "      <th></th>\n",
       "      <th></th>\n",
       "      <th></th>\n",
       "      <th></th>\n",
       "    </tr>\n",
       "  </thead>\n",
       "  <tbody>\n",
       "    <tr>\n",
       "      <th>2025-09-08 00:00:00-04:00</th>\n",
       "      <td>167.540555</td>\n",
       "      <td>170.950366</td>\n",
       "      <td>167.340569</td>\n",
       "      <td>168.300507</td>\n",
       "      <td>163769100</td>\n",
       "      <td>0.00</td>\n",
       "      <td>0.0</td>\n",
       "    </tr>\n",
       "    <tr>\n",
       "      <th>2025-09-09 00:00:00-04:00</th>\n",
       "      <td>169.080462</td>\n",
       "      <td>170.970355</td>\n",
       "      <td>166.730604</td>\n",
       "      <td>170.750366</td>\n",
       "      <td>157548400</td>\n",
       "      <td>0.00</td>\n",
       "      <td>0.0</td>\n",
       "    </tr>\n",
       "    <tr>\n",
       "      <th>2025-09-10 00:00:00-04:00</th>\n",
       "      <td>176.630044</td>\n",
       "      <td>179.279888</td>\n",
       "      <td>175.460112</td>\n",
       "      <td>177.320007</td>\n",
       "      <td>226852000</td>\n",
       "      <td>0.00</td>\n",
       "      <td>0.0</td>\n",
       "    </tr>\n",
       "    <tr>\n",
       "      <th>2025-09-11 00:00:00-04:00</th>\n",
       "      <td>179.679993</td>\n",
       "      <td>180.279999</td>\n",
       "      <td>176.479996</td>\n",
       "      <td>177.169998</td>\n",
       "      <td>151159300</td>\n",
       "      <td>0.01</td>\n",
       "      <td>0.0</td>\n",
       "    </tr>\n",
       "    <tr>\n",
       "      <th>2025-09-12 00:00:00-04:00</th>\n",
       "      <td>177.770004</td>\n",
       "      <td>178.600006</td>\n",
       "      <td>176.449997</td>\n",
       "      <td>177.820007</td>\n",
       "      <td>124618700</td>\n",
       "      <td>0.00</td>\n",
       "      <td>0.0</td>\n",
       "    </tr>\n",
       "  </tbody>\n",
       "</table>\n",
       "</div>"
      ],
      "text/plain": [
       "                                 Open        High         Low       Close  \\\n",
       "Date                                                                        \n",
       "2025-09-08 00:00:00-04:00  167.540555  170.950366  167.340569  168.300507   \n",
       "2025-09-09 00:00:00-04:00  169.080462  170.970355  166.730604  170.750366   \n",
       "2025-09-10 00:00:00-04:00  176.630044  179.279888  175.460112  177.320007   \n",
       "2025-09-11 00:00:00-04:00  179.679993  180.279999  176.479996  177.169998   \n",
       "2025-09-12 00:00:00-04:00  177.770004  178.600006  176.449997  177.820007   \n",
       "\n",
       "                              Volume  Dividends  Stock Splits  \n",
       "Date                                                           \n",
       "2025-09-08 00:00:00-04:00  163769100       0.00           0.0  \n",
       "2025-09-09 00:00:00-04:00  157548400       0.00           0.0  \n",
       "2025-09-10 00:00:00-04:00  226852000       0.00           0.0  \n",
       "2025-09-11 00:00:00-04:00  151159300       0.01           0.0  \n",
       "2025-09-12 00:00:00-04:00  124618700       0.00           0.0  "
      ]
     },
     "execution_count": 3,
     "metadata": {},
     "output_type": "execute_result"
    }
   ],
   "source": [
    "nvda.history(period=\"1wk\", interval=\"1d\")"
   ]
  },
  {
   "cell_type": "markdown",
   "id": "206b748a-676a-4a9c-9b2c-5b5d2636036b",
   "metadata": {},
   "source": [
    "He seems to be doing quite well.\n",
    "### Useful ticker class methods"
   ]
  },
  {
   "cell_type": "code",
   "execution_count": 4,
   "id": "22fd3989-843a-412c-a2c0-10e61b1b9d8e",
   "metadata": {},
   "outputs": [
    {
     "data": {
      "text/plain": [
       "{'Dividend Date': datetime.date(2025, 10, 1),\n",
       " 'Ex-Dividend Date': datetime.date(2025, 9, 10),\n",
       " 'Earnings Date': [datetime.date(2025, 11, 19)],\n",
       " 'Earnings High': 1.34,\n",
       " 'Earnings Low': 1.14,\n",
       " 'Earnings Average': 1.23977,\n",
       " 'Revenue High': 58340000000,\n",
       " 'Revenue Low': 53461000000,\n",
       " 'Revenue Average': 54599330600}"
      ]
     },
     "execution_count": 4,
     "metadata": {},
     "output_type": "execute_result"
    }
   ],
   "source": [
    "nvda.calendar"
   ]
  },
  {
   "cell_type": "code",
   "execution_count": 5,
   "id": "51611519-1da1-4102-bf07-5ee40814ce18",
   "metadata": {},
   "outputs": [
    {
     "data": {
      "text/plain": [
       "{'current': 177.82,\n",
       " 'high': 270.0,\n",
       " 'low': 100.0,\n",
       " 'mean': 208.59184,\n",
       " 'median': 210.0}"
      ]
     },
     "execution_count": 5,
     "metadata": {},
     "output_type": "execute_result"
    }
   ],
   "source": [
    "# This is one of my personal favorites for visual comparisons; pair targets against historical data\n",
    "nvda.analyst_price_targets"
   ]
  },
  {
   "cell_type": "markdown",
   "id": "15f55fc8-6f3d-46fa-b0e7-79ea0481421e",
   "metadata": {},
   "source": [
    "<hr>"
   ]
  },
  {
   "cell_type": "markdown",
   "id": "b611f5d8-d35c-4f21-b28e-05a98404d866",
   "metadata": {},
   "source": [
    "You can even view their options:"
   ]
  },
  {
   "cell_type": "code",
   "execution_count": 6,
   "id": "6bb664a5-4fd7-4df6-99bf-5ee9beacf3bf",
   "metadata": {},
   "outputs": [
    {
     "data": {
      "text/html": [
       "<div>\n",
       "<style scoped>\n",
       "    .dataframe tbody tr th:only-of-type {\n",
       "        vertical-align: middle;\n",
       "    }\n",
       "\n",
       "    .dataframe tbody tr th {\n",
       "        vertical-align: top;\n",
       "    }\n",
       "\n",
       "    .dataframe thead th {\n",
       "        text-align: right;\n",
       "    }\n",
       "</style>\n",
       "<table border=\"1\" class=\"dataframe\">\n",
       "  <thead>\n",
       "    <tr style=\"text-align: right;\">\n",
       "      <th></th>\n",
       "      <th>contractSymbol</th>\n",
       "      <th>lastTradeDate</th>\n",
       "      <th>strike</th>\n",
       "      <th>lastPrice</th>\n",
       "      <th>bid</th>\n",
       "      <th>ask</th>\n",
       "      <th>change</th>\n",
       "      <th>percentChange</th>\n",
       "      <th>volume</th>\n",
       "      <th>openInterest</th>\n",
       "      <th>impliedVolatility</th>\n",
       "      <th>inTheMoney</th>\n",
       "      <th>contractSize</th>\n",
       "      <th>currency</th>\n",
       "    </tr>\n",
       "  </thead>\n",
       "  <tbody>\n",
       "    <tr>\n",
       "      <th>104</th>\n",
       "      <td>NVDA250919C00187500</td>\n",
       "      <td>2025-09-12 19:59:59+00:00</td>\n",
       "      <td>187.5</td>\n",
       "      <td>0.36</td>\n",
       "      <td>0.36</td>\n",
       "      <td>0.37</td>\n",
       "      <td>-0.10</td>\n",
       "      <td>-21.739128</td>\n",
       "      <td>28530.0</td>\n",
       "      <td>25990.0</td>\n",
       "      <td>0.325690</td>\n",
       "      <td>False</td>\n",
       "      <td>REGULAR</td>\n",
       "      <td>USD</td>\n",
       "    </tr>\n",
       "    <tr>\n",
       "      <th>103</th>\n",
       "      <td>NVDA250919C00185000</td>\n",
       "      <td>2025-09-12 19:59:59+00:00</td>\n",
       "      <td>185.0</td>\n",
       "      <td>0.63</td>\n",
       "      <td>0.62</td>\n",
       "      <td>0.63</td>\n",
       "      <td>-0.12</td>\n",
       "      <td>-16.000002</td>\n",
       "      <td>64564.0</td>\n",
       "      <td>110899.0</td>\n",
       "      <td>0.314460</td>\n",
       "      <td>False</td>\n",
       "      <td>REGULAR</td>\n",
       "      <td>USD</td>\n",
       "    </tr>\n",
       "    <tr>\n",
       "      <th>102</th>\n",
       "      <td>NVDA250919C00182500</td>\n",
       "      <td>2025-09-12 19:59:59+00:00</td>\n",
       "      <td>182.5</td>\n",
       "      <td>1.09</td>\n",
       "      <td>1.09</td>\n",
       "      <td>1.11</td>\n",
       "      <td>-0.16</td>\n",
       "      <td>-12.799997</td>\n",
       "      <td>104148.0</td>\n",
       "      <td>51920.0</td>\n",
       "      <td>0.310554</td>\n",
       "      <td>False</td>\n",
       "      <td>REGULAR</td>\n",
       "      <td>USD</td>\n",
       "    </tr>\n",
       "    <tr>\n",
       "      <th>105</th>\n",
       "      <td>NVDA250919C00190000</td>\n",
       "      <td>2025-09-12 19:59:57+00:00</td>\n",
       "      <td>190.0</td>\n",
       "      <td>0.22</td>\n",
       "      <td>0.22</td>\n",
       "      <td>0.23</td>\n",
       "      <td>-0.08</td>\n",
       "      <td>-26.666672</td>\n",
       "      <td>39824.0</td>\n",
       "      <td>98680.0</td>\n",
       "      <td>0.341803</td>\n",
       "      <td>False</td>\n",
       "      <td>REGULAR</td>\n",
       "      <td>USD</td>\n",
       "    </tr>\n",
       "    <tr>\n",
       "      <th>107</th>\n",
       "      <td>NVDA250919C00195000</td>\n",
       "      <td>2025-09-12 19:59:57+00:00</td>\n",
       "      <td>195.0</td>\n",
       "      <td>0.10</td>\n",
       "      <td>0.10</td>\n",
       "      <td>0.11</td>\n",
       "      <td>-0.04</td>\n",
       "      <td>-28.571426</td>\n",
       "      <td>16326.0</td>\n",
       "      <td>59042.0</td>\n",
       "      <td>0.384772</td>\n",
       "      <td>False</td>\n",
       "      <td>REGULAR</td>\n",
       "      <td>USD</td>\n",
       "    </tr>\n",
       "  </tbody>\n",
       "</table>\n",
       "</div>"
      ],
      "text/plain": [
       "          contractSymbol             lastTradeDate  strike  lastPrice   bid  \\\n",
       "104  NVDA250919C00187500 2025-09-12 19:59:59+00:00   187.5       0.36  0.36   \n",
       "103  NVDA250919C00185000 2025-09-12 19:59:59+00:00   185.0       0.63  0.62   \n",
       "102  NVDA250919C00182500 2025-09-12 19:59:59+00:00   182.5       1.09  1.09   \n",
       "105  NVDA250919C00190000 2025-09-12 19:59:57+00:00   190.0       0.22  0.22   \n",
       "107  NVDA250919C00195000 2025-09-12 19:59:57+00:00   195.0       0.10  0.10   \n",
       "\n",
       "      ask  change  percentChange    volume  openInterest  impliedVolatility  \\\n",
       "104  0.37   -0.10     -21.739128   28530.0       25990.0           0.325690   \n",
       "103  0.63   -0.12     -16.000002   64564.0      110899.0           0.314460   \n",
       "102  1.11   -0.16     -12.799997  104148.0       51920.0           0.310554   \n",
       "105  0.23   -0.08     -26.666672   39824.0       98680.0           0.341803   \n",
       "107  0.11   -0.04     -28.571426   16326.0       59042.0           0.384772   \n",
       "\n",
       "     inTheMoney contractSize currency  \n",
       "104       False      REGULAR      USD  \n",
       "103       False      REGULAR      USD  \n",
       "102       False      REGULAR      USD  \n",
       "105       False      REGULAR      USD  \n",
       "107       False      REGULAR      USD  "
      ]
     },
     "execution_count": 6,
     "metadata": {},
     "output_type": "execute_result"
    }
   ],
   "source": [
    "nvda.option_chain(nvda.options[0]).calls.sort_values(by=\"lastTradeDate\", ascending=False).head()"
   ]
  },
  {
   "cell_type": "markdown",
   "id": "30e40c83-b5c2-440c-b98a-2036ca237724",
   "metadata": {},
   "source": [
    "<hr>"
   ]
  },
  {
   "cell_type": "markdown",
   "id": "279a1e58-690a-4c50-9482-1ae599ae8654",
   "metadata": {},
   "source": [
    "Now, let's put matplotlib to use and visualize some data."
   ]
  },
  {
   "cell_type": "code",
   "execution_count": 7,
   "id": "97e0fef1-930d-4b86-aa69-08c00ab65b58",
   "metadata": {},
   "outputs": [],
   "source": [
    "# Grabbing our graph data\n",
    "nvda_hist = nvda.history(period=\"1y\", interval=\"1wk\")\n",
    "x = nvda_hist.index\n",
    "y = nvda_hist['Close']\n",
    "target = nvda.analyst_price_targets['current']"
   ]
  },
  {
   "cell_type": "code",
   "execution_count": 8,
   "id": "f225d54a-8299-493f-8e2c-9e726551b951",
   "metadata": {},
   "outputs": [
    {
     "data": {
      "image/png": "[encoded data removed]",
      "text/plain": [
       "<Figure size 1200x600 with 1 Axes>"
      ]
     },
     "metadata": {},
     "output_type": "display_data"
    }
   ],
   "source": [
    "# Setting up a simple plot. I love mpl\n",
    "plt.figure(figsize=(12, 6))\n",
    "plt.plot(x, y)\n",
    "plt.plot(x[-1], target, \"o\")\n",
    "plt.title(\"NVDA\")\n",
    "plt.xlabel(\"Date\")\n",
    "plt.ylabel(\"Price (USD)\")\n",
    "plt.grid()\n",
    "plt.show()"
   ]
  },
  {
   "cell_type": "markdown",
   "id": "039bd4a4-aca4-4045-91d4-72b6c4354ee4",
   "metadata": {},
   "source": [
    "And just like that, there's our data for all to behold.\n",
    "\n",
    "Of course, we've only scratched the surface of these libraries, but the basic lessons are clear.\n",
    "\n",
    "- Yfinance's tickers are powerful objects with lots of usefyl info accessible through their methods.\n",
    "- Matplotlib's pyplot is a simple, user-friendly tool for data visualization.\n",
    "\n",
    "It's no surprise these libraries are among the most widely used in financial analysis."
   ]
  },
  {
   "cell_type": "markdown",
   "id": "031c0da7-fa38-4e9a-b975-8846e35fd1ef",
   "metadata": {},
   "source": [
    "### Thank you for checking out this tutorial, have a great day."
   ]
  }
 ],
 "metadata": {
  "kernelspec": {
   "display_name": "Python (market-analysis)",
   "language": "python",
   "name": "market-analysis"
  },
  "language_info": {
   "codemirror_mode": {
    "name": "ipython",
    "version": 3
   },
   "file_extension": ".py",
   "mimetype": "text/x-python",
   "name": "python",
   "nbconvert_exporter": "python",
   "pygments_lexer": "ipython3",
   "version": "3.13.7"
  }
 },
 "nbformat": 4,
 "nbformat_minor": 5
}
